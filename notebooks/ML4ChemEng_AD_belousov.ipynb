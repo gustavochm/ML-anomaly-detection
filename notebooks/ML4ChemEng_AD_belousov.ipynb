{
 "cells": [
  {
   "cell_type": "code",
   "execution_count": null,
   "metadata": {},
   "outputs": [],
   "source": [
    "import numpy as np\n",
    "from scipy.signal import convolve2d\n",
    "import matplotlib.pyplot as plt\n",
    "from matplotlib import animation\n",
    "\n",
    "# Width, height of the image.\n",
    "nx, ny = 600, 450\n",
    "# Reaction parameters.\n",
    "alpha, beta, gamma = 1, 1, 1\n",
    "\n",
    "def update(p,arr):\n",
    "    \"\"\"Update arr[p] to arr[q] by evolving in time.\"\"\"\n",
    "\n",
    "    # Count the average amount of each species in the 9 cells around each cell\n",
    "    # by convolution with the 3x3 array m.\n",
    "    q = (p+1) % 2\n",
    "    s = np.zeros((3, ny,nx))\n",
    "    m = np.ones((3,3)) / 9\n",
    "    for k in range(3):\n",
    "        s[k] = convolve2d(arr[p,k], m, mode='same', boundary='wrap')\n",
    "    # Apply the reaction equations\n",
    "    arr[q,0] = s[0] + s[0]*(alpha*s[1] - gamma*s[2])\n",
    "    arr[q,1] = s[1] + s[1]*(beta*s[2] - alpha*s[0])\n",
    "    arr[q,2] = s[2] + s[2]*(gamma*s[0] - beta*s[1])\n",
    "    # Ensure the species concentrations are kept within [0,1].\n",
    "    np.clip(arr[q], 0, 1, arr[q])\n",
    "    return arr\n",
    "\n",
    "# Initialize the array with random amounts of A, B and C.\n",
    "arr = np.random.random(size=(2, 3, ny, nx))\n",
    "\n",
    "# Set up the image\n",
    "fig, ax = plt.subplots()\n",
    "im = ax.imshow(arr[0,0], cmap=plt.cm.winter)\n",
    "ax.axis('off')\n",
    "\n",
    "def animate(i, arr):\n",
    "    \"\"\"Update the image for iteration i of the Matplotlib animation.\"\"\"\n",
    "\n",
    "    arr = update(i % 2, arr)\n",
    "    im.set_array(arr[i % 2, 0])\n",
    "    return [im]\n",
    "\n",
    "anim = animation.FuncAnimation(fig, animate, frames=200, interval=5,\n",
    "                               blit=False, fargs=(arr,))\n",
    "\n",
    "# To view the animation, uncomment this line\n",
    "plt.show()\n",
    "\n",
    "# To save the animation as an MP4 movie, uncomment this line\n",
    "#anim.save(filename='bz.mp4', fps=30)\n"
   ]
  },
  {
   "cell_type": "code",
   "execution_count": null,
   "metadata": {},
   "outputs": [],
   "source": [
    "def belousov():\n",
    "    \"\"\"Update arr[p] to arr[q] by evolving in time.\"\"\"\n",
    "    for t in range(20):\n",
    "        p = t % 2\n",
    "        # Count the average amount of each species in the 9 cells around each cell\n",
    "        # by convolution with the 3x3 array m.\n",
    "        q = (p+1) % 2\n",
    "        s = np.zeros((3, ny,nx))\n",
    "        m = np.ones((3,3)) / 9\n",
    "        for k in range(3):\n",
    "            s[k] = convolve2d(arr[p,k], m, mode='same', boundary='wrap')\n",
    "        # Apply the reaction equations\n",
    "        arr[q,0] = s[0] + s[0]*(alpha*s[1] - gamma*s[2])\n",
    "        arr[q,1] = s[1] + s[1]*(beta*s[2] - alpha*s[0])\n",
    "        arr[q,2] = s[2] + s[2]*(gamma*s[0] - beta*s[1])\n",
    "        # Ensure the species concentrations are kept within [0,1].\n",
    "        np.clip(arr[q], 0, 1, arr[q])\n",
    "        return arr\n",
    "data = belousov()"
   ]
  },
  {
   "cell_type": "code",
   "execution_count": null,
   "metadata": {},
   "outputs": [],
   "source": [
    "data.shape\n"
   ]
  }
 ],
 "metadata": {
  "kernelspec": {
   "display_name": "Python 3",
   "language": "python",
   "name": "python3"
  },
  "language_info": {
   "codemirror_mode": {
    "name": "ipython",
    "version": 3
   },
   "file_extension": ".py",
   "mimetype": "text/x-python",
   "name": "python",
   "nbconvert_exporter": "python",
   "pygments_lexer": "ipython3",
   "version": "3.11.6"
  }
 },
 "nbformat": 4,
 "nbformat_minor": 2
}
